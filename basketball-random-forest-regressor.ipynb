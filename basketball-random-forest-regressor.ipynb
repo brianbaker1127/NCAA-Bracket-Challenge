{
 "cells": [
  {
   "cell_type": "code",
   "execution_count": 17,
   "metadata": {},
   "outputs": [],
   "source": [
    "import pandas as pd\n",
    "import matplotlib.pyplot as plt\n",
    "import numpy as np\n",
    "\n",
    "from sklearn.model_selection import train_test_split\n",
    "from sklearn.ensemble import RandomForestRegressor\n",
    "\n",
    "import psycopg2\n",
    "\n",
    "%matplotlib inline"
   ]
  },
  {
   "cell_type": "markdown",
   "metadata": {},
   "source": [
    "# Connect to Basketball DB"
   ]
  },
  {
   "cell_type": "code",
   "execution_count": 32,
   "metadata": {},
   "outputs": [],
   "source": [
    "try:\n",
    "    connection = psycopg2.connect(user=\"postgres\",\n",
    "                                  password=\"baker1127\",\n",
    "                                  host=\"localhost\",\n",
    "                                  port=\"5432\",\n",
    "                                  database=\"basketball\")\n",
    "    \n",
    "except (Exception, psycopg2.Error) as error:\n",
    "    print(\"Error while connecting to PostgreSQL\", error)\n",
    "    \n",
    "cursor = connection.cursor()    "
   ]
  },
  {
   "cell_type": "code",
   "execution_count": 33,
   "metadata": {},
   "outputs": [],
   "source": [
    "FEATURE_NUM = 9\n",
    "\n",
    "cursor.execute(\"SELECT COUNT(*) FROM gametable\")\n",
    "DATA_POINTS = cursor.fetchall()[0][0]\n",
    "X = np.zeros(shape=(DATA_POINTS,FEATURE_NUM))"
   ]
  },
  {
   "cell_type": "markdown",
   "metadata": {},
   "source": [
    "# Query the data needed to train\n",
    "### The data obtained from the internet is in a format unsuitable for training, so significant data preparation is required first"
   ]
  },
  {
   "cell_type": "code",
   "execution_count": 34,
   "metadata": {},
   "outputs": [],
   "source": [
    "\"\"\" SQL query to fetch needed data \"\"\"\n",
    "fetch_query = \"\"\"WITH tA AS\n",
    "(SELECT ts1.\"ID team\", ts1.id, ts2.pct, ts3.ppg, ts4.oppg, ts5.spg, ts6.apg, ts7.ftp, ts8.scmg, ts9.rpi, ts10.sos FROM team_statistics ts1 \n",
    "    JOIN team_statistics ts2 ON ts1.\"ID team\" = ts2.\"PCT team\"\n",
    "    JOIN team_statistics ts3 ON ts1.\"ID team\" = ts3.\"PPG team\" \n",
    "    JOIN team_statistics ts4 ON ts1.\"ID team\" = ts4.\"OPPG team\"\n",
    "    JOIN team_statistics ts5 ON ts1.\"ID team\" = ts5.\"SPG team\"\n",
    "    JOIN team_statistics ts6 ON ts1.\"ID team\" = ts6.\"APG team\"\n",
    "    JOIN team_statistics ts7 ON ts1.\"ID team\" = ts7.\"FTP team\"\n",
    "    JOIN team_statistics ts8 ON ts1.\"ID team\" = ts8.\"SCMG team\"\n",
    "    JOIN team_statistics ts9 ON ts1.\"ID team\" = ts9.\"RPI team\"\n",
    "    JOIN team_statistics ts10 ON ts1.\"ID team\" = ts10.\"SOS team\"),\n",
    "    \n",
    "    tB AS\n",
    "(SELECT ts1.\"ID team\", ts1.id, ts2.pct, ts3.ppg, ts4.oppg, ts5.spg, ts6.apg, ts7.ftp, ts8.scmg, ts9.rpi, ts10.sos FROM team_statistics ts1 \n",
    "    JOIN team_statistics ts2 ON ts1.\"ID team\" = ts2.\"PCT team\"\n",
    "    JOIN team_statistics ts3 ON ts1.\"ID team\" = ts3.\"PPG team\" \n",
    "    JOIN team_statistics ts4 ON ts1.\"ID team\" = ts4.\"OPPG team\"\n",
    "    JOIN team_statistics ts5 ON ts1.\"ID team\" = ts5.\"SPG team\"\n",
    "    JOIN team_statistics ts6 ON ts1.\"ID team\" = ts6.\"APG team\"\n",
    "    JOIN team_statistics ts7 ON ts1.\"ID team\" = ts7.\"FTP team\"\n",
    "    JOIN team_statistics ts8 ON ts1.\"ID team\" = ts8.\"SCMG team\"\n",
    "    JOIN team_statistics ts9 ON ts1.\"ID team\" = ts9.\"RPI team\"\n",
    "    JOIN team_statistics ts10 ON ts1.\"ID team\" = ts10.\"SOS team\")\n",
    "    \n",
    "SELECT tA.\"ID team\", tB.\"ID team\", tA.pct - tB.pct AS \"win percentage\", \n",
    "   tA.rpi - tB.rpi AS \"RPI\", \n",
    "   tA.sos - tB.sos AS \"schedule strength\", \n",
    "   tA.ppg - tB.ppg AS \"points per game\",\n",
    "   tA.oppg - tB.oppg AS \"opponent points per game\",\n",
    "   tA.scmg - tB.scmg AS \"average scoring margin\",\n",
    "   tA.apg - tB.apg AS \"assists per game\",\n",
    "   tA.spg - tB.spg AS \"steals per game\",\n",
    "   tA.ftp - tB.ftp AS \"free throw percentage\", gms.\"score margin\" FROM gametable AS gms\n",
    "   JOIN tA ON gms.\"team A\" = tA.id\n",
    "   JOIN tB ON gms.\"team B\" = tB.id\"\"\"\n",
    "\n",
    "cursor.execute(fetch_query)"
   ]
  },
  {
   "cell_type": "markdown",
   "metadata": {},
   "source": [
    "## store data in numpy array and close DB connection "
   ]
  },
  {
   "cell_type": "code",
   "execution_count": 35,
   "metadata": {},
   "outputs": [],
   "source": [
    "data = np.array(cursor.fetchall())\n",
    "\n",
    "X = (data[:,2:FEATURE_NUM+2]).astype(float)\n",
    "y = (data[:,FEATURE_NUM+2]).astype(float)\n",
    "\n",
    "cursor.close()\n",
    "connection.close()"
   ]
  },
  {
   "cell_type": "markdown",
   "metadata": {},
   "source": [
    "# Train Data with Regression Forest "
   ]
  },
  {
   "cell_type": "markdown",
   "metadata": {},
   "source": [
    "## split data into training and test set\n",
    "#### Note: The sample size is large enough ($\\sim \\mathcal{O}(\\text{10}^3))$ that a simple hold-out method is probably sufficient to test model variance rather than doing a full k-fold cross validation"
   ]
  },
  {
   "cell_type": "code",
   "execution_count": 37,
   "metadata": {},
   "outputs": [],
   "source": [
    "X_train, X_test, y_train, y_test = train_test_split(X, y, test_size=0.25, random_state=0)"
   ]
  },
  {
   "cell_type": "markdown",
   "metadata": {},
   "source": [
    "## build forest. TODO: hyperparameter optimization to minimize test error\n",
    "\n",
    "#### Note: leaf sample cutoff should certainly be > 1 to prevent overfit decision trees "
   ]
  },
  {
   "cell_type": "code",
   "execution_count": 38,
   "metadata": {},
   "outputs": [],
   "source": [
    "regressor = RandomForestRegressor(n_estimators=200, min_samples_leaf=10, max_features = 'sqrt',random_state=0)"
   ]
  },
  {
   "cell_type": "code",
   "execution_count": 39,
   "metadata": {},
   "outputs": [
    {
     "data": {
      "text/plain": [
       "RandomForestRegressor(max_features='sqrt', min_samples_leaf=10,\n",
       "                      n_estimators=200, random_state=0)"
      ]
     },
     "execution_count": 39,
     "metadata": {},
     "output_type": "execute_result"
    }
   ],
   "source": [
    "regressor.fit(X_train, y_train)"
   ]
  },
  {
   "cell_type": "markdown",
   "metadata": {},
   "source": [
    "# Test Data"
   ]
  },
  {
   "cell_type": "code",
   "execution_count": 40,
   "metadata": {},
   "outputs": [],
   "source": [
    "y_pred = regressor.predict(X_test)"
   ]
  },
  {
   "cell_type": "code",
   "execution_count": 41,
   "metadata": {},
   "outputs": [
    {
     "name": "stdout",
     "output_type": "stream",
     "text": [
      "RMS Error: 11.08154302505357\n"
     ]
    }
   ],
   "source": [
    "from sklearn import metrics\n",
    "\n",
    "rms_error = np.sqrt(metrics.mean_squared_error(y_test, y_pred))\n",
    "print('RMS Error:', rms_error)"
   ]
  },
  {
   "cell_type": "markdown",
   "metadata": {},
   "source": [
    "## plot test results"
   ]
  },
  {
   "cell_type": "code",
   "execution_count": 42,
   "metadata": {},
   "outputs": [
    {
     "name": "stdout",
     "output_type": "stream",
     "text": [
      "correlation coefficient: 0.6856308352006794\n",
      "bias: 0.1281268441985361\n"
     ]
    },
    {
     "data": {
      "image/png": "[encoded data removed]",
      "text/plain": [
       "<Figure size 432x288 with 1 Axes>"
      ]
     },
     "metadata": {
      "needs_background": "light"
     },
     "output_type": "display_data"
    }
   ],
   "source": [
    "from scipy import stats\n",
    "\n",
    "slope, intercept, r_value, p_value, std_err = stats.linregress(y_test,y_pred)\n",
    "print(\"correlation coefficient: {}\".format(r_value))\n",
    "print(\"bias: {}\".format(intercept))\n",
    "plt.scatter(y_test, y_pred,color='r')\n",
    "plt.plot(y_test, slope*y_test + intercept)\n",
    "plt.xlabel(\"test sample data\")\n",
    "plt.ylabel(\"predicted data\")\n",
    "plt.show()"
   ]
  },
  {
   "cell_type": "code",
   "execution_count": 43,
   "metadata": {},
   "outputs": [
    {
     "name": "stdout",
     "output_type": "stream",
     "text": [
      "test error: 8.58043153001324\n"
     ]
    }
   ],
   "source": [
    "test_error = np.average(abs(y_test - y_pred))\n",
    "print(\"test error: {}\".format(test_error))"
   ]
  },
  {
   "cell_type": "markdown",
   "metadata": {},
   "source": [
    "## Calculate/plot variable importance"
   ]
  },
  {
   "cell_type": "code",
   "execution_count": 44,
   "metadata": {},
   "outputs": [
    {
     "data": {
      "text/plain": [
       "<BarContainer object of 9 artists>"
      ]
     },
     "execution_count": 44,
     "metadata": {},
     "output_type": "execute_result"
    },
    {
     "data": {
      "image/png": "[encoded data removed]",
      "text/plain": [
       "<Figure size 432x288 with 1 Axes>"
      ]
     },
     "metadata": {
      "needs_background": "light"
     },
     "output_type": "display_data"
    }
   ],
   "source": [
    "importance = regressor.feature_importances_\n",
    "\n",
    "clrs = ['tomato' if (x < 0.05) else ('gold' if (x>=0.05 and x<0.1) else ('lightgreen' if (x>=0.1 and x<0.2) else 'forestgreen')) for x in importance]\n",
    "plt.bar([x for x in range(len(importance))], importance,color=clrs)"
   ]
  },
  {
   "cell_type": "markdown",
   "metadata": {},
   "source": [
    "# Test a Game: (obtain the predicted scoring margin)"
   ]
  },
  {
   "cell_type": "code",
   "execution_count": 61,
   "metadata": {},
   "outputs": [
    {
     "name": "stdout",
     "output_type": "stream",
     "text": [
      "-11.0\n",
      "[-10.20535649]\n"
     ]
    }
   ],
   "source": [
    "X_test_game = [X[2000,:]]\n",
    "y_test_game = y[2000]\n",
    "print(y_test_game)\n",
    "game_prediction = regressor.predict(X_test_game)\n",
    "print(game_prediction)"
   ]
  },
  {
   "cell_type": "markdown",
   "metadata": {},
   "source": [
    "## Establish Win Confidence: ($\\text{confidence} = \\displaystyle \\frac{1}{\\sqrt{2\\pi\\sigma^2}}\\int_0^\\infty e^{(y-\\hat{y})^2/2\\sigma^2}dy $ where $\\hat{y}$ is the predicted scoring margin and $\\sigma$ is the model's rms error, calculated above)"
   ]
  },
  {
   "cell_type": "markdown",
   "metadata": {},
   "source": [
    "### Note that the confidence is defined as the probability of team A winning, which corresponds to positive values of the scoring margin, therefore the integral is taken from 0 to $\\infty$. The fundamental assumption in this model is that the possible scoring margins are Gaussian distributed about the predicted margin."
   ]
  },
  {
   "cell_type": "code",
   "execution_count": 62,
   "metadata": {},
   "outputs": [
    {
     "name": "stdout",
     "output_type": "stream",
     "text": [
      "team A win confidence: 0.17854275539229247\n"
     ]
    }
   ],
   "source": [
    "from scipy.stats import norm\n",
    "\n",
    "mu = game_prediction\n",
    "sigma = rms_error\n",
    "\n",
    "win_probability = (1 - norm.cdf(0, loc=mu, scale=sigma))[0]\n",
    "print(\"team A win confidence: {}\".format(win_probability))"
   ]
  },
  {
   "cell_type": "code",
   "execution_count": null,
   "metadata": {},
   "outputs": [],
   "source": []
  }
 ],
 "metadata": {
  "kernelspec": {
   "display_name": "Python 3",
   "language": "python",
   "name": "python3"
  },
  "language_info": {
   "codemirror_mode": {
    "name": "ipython",
    "version": 3
   },
   "file_extension": ".py",
   "mimetype": "text/x-python",
   "name": "python",
   "nbconvert_exporter": "python",
   "pygments_lexer": "ipython3",
   "version": "3.8.5"
  }
 },
 "nbformat": 4,
 "nbformat_minor": 2
}
