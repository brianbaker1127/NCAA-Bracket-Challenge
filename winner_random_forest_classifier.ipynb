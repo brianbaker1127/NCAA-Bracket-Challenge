{
 "cells": [
  {
   "cell_type": "code",
   "execution_count": 1,
   "metadata": {},
   "outputs": [],
   "source": [
    "import pandas as pd\n",
    "import matplotlib.pyplot as plt\n",
    "import numpy as np\n",
    "\n",
    "from sklearn.model_selection import train_test_split\n",
    "from sklearn.ensemble import RandomForestRegressor\n",
    "\n",
    "%matplotlib inline"
   ]
  },
  {
   "cell_type": "markdown",
   "metadata": {},
   "source": [
    "# Load Data"
   ]
  },
  {
   "cell_type": "code",
   "execution_count": 119,
   "metadata": {},
   "outputs": [
    {
     "data": {
      "text/html": [
       "<div>\n",
       "<style scoped>\n",
       "    .dataframe tbody tr th:only-of-type {\n",
       "        vertical-align: middle;\n",
       "    }\n",
       "\n",
       "    .dataframe tbody tr th {\n",
       "        vertical-align: top;\n",
       "    }\n",
       "\n",
       "    .dataframe thead th {\n",
       "        text-align: right;\n",
       "    }\n",
       "</style>\n",
       "<table border=\"1\" class=\"dataframe\">\n",
       "  <thead>\n",
       "    <tr style=\"text-align: right;\">\n",
       "      <th></th>\n",
       "      <th>year</th>\n",
       "      <th>PCT team</th>\n",
       "      <th>PCT</th>\n",
       "      <th>PPG team</th>\n",
       "      <th>PPG</th>\n",
       "      <th>OPPG team</th>\n",
       "      <th>OPPG</th>\n",
       "      <th>SPG team</th>\n",
       "      <th>SPG</th>\n",
       "      <th>APG team</th>\n",
       "      <th>...</th>\n",
       "      <th>FTP team</th>\n",
       "      <th>FTP</th>\n",
       "      <th>SCMG team</th>\n",
       "      <th>SCMG</th>\n",
       "      <th>RPI team</th>\n",
       "      <th>RPI</th>\n",
       "      <th>SOS team</th>\n",
       "      <th>SOS</th>\n",
       "      <th>ID team</th>\n",
       "      <th>ID</th>\n",
       "    </tr>\n",
       "  </thead>\n",
       "  <tbody>\n",
       "    <tr>\n",
       "      <th>0</th>\n",
       "      <td>2017.0</td>\n",
       "      <td>Gonzaga</td>\n",
       "      <td>94.9</td>\n",
       "      <td>The Citadel</td>\n",
       "      <td>89.8</td>\n",
       "      <td>Virginia</td>\n",
       "      <td>56.4</td>\n",
       "      <td>West Virginia</td>\n",
       "      <td>10.0</td>\n",
       "      <td>UCLA</td>\n",
       "      <td>...</td>\n",
       "      <td>Notre Dame</td>\n",
       "      <td>80.0</td>\n",
       "      <td>Gonzaga</td>\n",
       "      <td>21.1</td>\n",
       "      <td>North Carolina</td>\n",
       "      <td>0.668</td>\n",
       "      <td>North Carolina</td>\n",
       "      <td>0.607</td>\n",
       "      <td>Abilene Christian</td>\n",
       "      <td>1101</td>\n",
       "    </tr>\n",
       "    <tr>\n",
       "      <th>1</th>\n",
       "      <td>2017.0</td>\n",
       "      <td>Villanova</td>\n",
       "      <td>88.9</td>\n",
       "      <td>UCLA</td>\n",
       "      <td>89.8</td>\n",
       "      <td>Saint Mary's</td>\n",
       "      <td>57.5</td>\n",
       "      <td>Portland St.</td>\n",
       "      <td>9.9</td>\n",
       "      <td>Purdue</td>\n",
       "      <td>...</td>\n",
       "      <td>Central Mich.</td>\n",
       "      <td>79.1</td>\n",
       "      <td>Wichita St.</td>\n",
       "      <td>18.6</td>\n",
       "      <td>Kentucky</td>\n",
       "      <td>0.658</td>\n",
       "      <td>Vanderbilt (19-16)</td>\n",
       "      <td>0.606</td>\n",
       "      <td>Air Force</td>\n",
       "      <td>1102</td>\n",
       "    </tr>\n",
       "    <tr>\n",
       "      <th>2</th>\n",
       "      <td>2017.0</td>\n",
       "      <td>Arizona</td>\n",
       "      <td>86.5</td>\n",
       "      <td>Central Mich.</td>\n",
       "      <td>88.3</td>\n",
       "      <td>SMU</td>\n",
       "      <td>60.0</td>\n",
       "      <td>Fordham</td>\n",
       "      <td>9.8</td>\n",
       "      <td>Lipscomb</td>\n",
       "      <td>...</td>\n",
       "      <td>Villanova</td>\n",
       "      <td>79.0</td>\n",
       "      <td>West Virginia</td>\n",
       "      <td>14.8</td>\n",
       "      <td>Kansas</td>\n",
       "      <td>0.656</td>\n",
       "      <td>Louisville (25-9)</td>\n",
       "      <td>0.604</td>\n",
       "      <td>Akron</td>\n",
       "      <td>1103</td>\n",
       "    </tr>\n",
       "    <tr>\n",
       "      <th>3</th>\n",
       "      <td>2017.0</td>\n",
       "      <td>Middle Tenn.</td>\n",
       "      <td>86.1</td>\n",
       "      <td>Purdue Fort Wayne</td>\n",
       "      <td>86.9</td>\n",
       "      <td>Saint Peter's</td>\n",
       "      <td>60.8</td>\n",
       "      <td>Eastern Mich.</td>\n",
       "      <td>9.6</td>\n",
       "      <td>North Carolina</td>\n",
       "      <td>...</td>\n",
       "      <td>Oklahoma St.</td>\n",
       "      <td>78.9</td>\n",
       "      <td>Saint Mary's</td>\n",
       "      <td>14.6</td>\n",
       "      <td>Villanova</td>\n",
       "      <td>0.655</td>\n",
       "      <td>Baylor (26-8)</td>\n",
       "      <td>0.601</td>\n",
       "      <td>Alabama</td>\n",
       "      <td>1104</td>\n",
       "    </tr>\n",
       "    <tr>\n",
       "      <th>4</th>\n",
       "      <td>2017.0</td>\n",
       "      <td>UCLA</td>\n",
       "      <td>86.1</td>\n",
       "      <td>Oklahoma St.</td>\n",
       "      <td>85.7</td>\n",
       "      <td>Old Dominion</td>\n",
       "      <td>61.2</td>\n",
       "      <td>Holy Cross</td>\n",
       "      <td>9.4</td>\n",
       "      <td>Iowa</td>\n",
       "      <td>...</td>\n",
       "      <td>Mercer</td>\n",
       "      <td>78.2</td>\n",
       "      <td>Villanova</td>\n",
       "      <td>14.5</td>\n",
       "      <td>Arizona</td>\n",
       "      <td>0.652</td>\n",
       "      <td>Virginia (23-11)</td>\n",
       "      <td>0.600</td>\n",
       "      <td>Alabama A&amp;M</td>\n",
       "      <td>1105</td>\n",
       "    </tr>\n",
       "  </tbody>\n",
       "</table>\n",
       "<p>5 rows × 21 columns</p>\n",
       "</div>"
      ],
      "text/plain": [
       "     year      PCT team   PCT           PPG team   PPG      OPPG team  OPPG  \\\n",
       "0  2017.0       Gonzaga  94.9        The Citadel  89.8       Virginia  56.4   \n",
       "1  2017.0     Villanova  88.9               UCLA  89.8   Saint Mary's  57.5   \n",
       "2  2017.0       Arizona  86.5      Central Mich.  88.3            SMU  60.0   \n",
       "3  2017.0  Middle Tenn.  86.1  Purdue Fort Wayne  86.9  Saint Peter's  60.8   \n",
       "4  2017.0          UCLA  86.1       Oklahoma St.  85.7   Old Dominion  61.2   \n",
       "\n",
       "        SPG team   SPG        APG team  ...       FTP team   FTP  \\\n",
       "0  West Virginia  10.0            UCLA  ...     Notre Dame  80.0   \n",
       "1   Portland St.   9.9          Purdue  ...  Central Mich.  79.1   \n",
       "2        Fordham   9.8        Lipscomb  ...      Villanova  79.0   \n",
       "3  Eastern Mich.   9.6  North Carolina  ...   Oklahoma St.  78.9   \n",
       "4     Holy Cross   9.4            Iowa  ...         Mercer  78.2   \n",
       "\n",
       "       SCMG team  SCMG         RPI team    RPI            SOS team    SOS  \\\n",
       "0        Gonzaga  21.1  North Carolina   0.668      North Carolina  0.607   \n",
       "1    Wichita St.  18.6         Kentucky  0.658  Vanderbilt (19-16)  0.606   \n",
       "2  West Virginia  14.8           Kansas  0.656   Louisville (25-9)  0.604   \n",
       "3   Saint Mary's  14.6        Villanova  0.655       Baylor (26-8)  0.601   \n",
       "4      Villanova  14.5          Arizona  0.652    Virginia (23-11)  0.600   \n",
       "\n",
       "             ID team    ID  \n",
       "0  Abilene Christian  1101  \n",
       "1          Air Force  1102  \n",
       "2              Akron  1103  \n",
       "3            Alabama  1104  \n",
       "4        Alabama A&M  1105  \n",
       "\n",
       "[5 rows x 21 columns]"
      ]
     },
     "execution_count": 119,
     "metadata": {},
     "output_type": "execute_result"
    }
   ],
   "source": [
    "oo = pd.read_csv('all_rankings.csv')\n",
    "oo.head()"
   ]
  },
  {
   "cell_type": "code",
   "execution_count": 120,
   "metadata": {},
   "outputs": [
    {
     "data": {
      "text/html": [
       "<div>\n",
       "<style scoped>\n",
       "    .dataframe tbody tr th:only-of-type {\n",
       "        vertical-align: middle;\n",
       "    }\n",
       "\n",
       "    .dataframe tbody tr th {\n",
       "        vertical-align: top;\n",
       "    }\n",
       "\n",
       "    .dataframe thead th {\n",
       "        text-align: right;\n",
       "    }\n",
       "</style>\n",
       "<table border=\"1\" class=\"dataframe\">\n",
       "  <thead>\n",
       "    <tr style=\"text-align: right;\">\n",
       "      <th></th>\n",
       "      <th>PCT team</th>\n",
       "      <th>PCT</th>\n",
       "      <th>PPG team</th>\n",
       "      <th>PPG</th>\n",
       "      <th>OPPG team</th>\n",
       "      <th>OPPG</th>\n",
       "      <th>SPG team</th>\n",
       "      <th>SPG</th>\n",
       "      <th>APG team</th>\n",
       "      <th>APG</th>\n",
       "      <th>FTP team</th>\n",
       "      <th>FTP</th>\n",
       "      <th>SCMG team</th>\n",
       "      <th>SCMG</th>\n",
       "      <th>RPI team</th>\n",
       "      <th>RPI</th>\n",
       "      <th>SOS team</th>\n",
       "      <th>SOS</th>\n",
       "      <th>ID team</th>\n",
       "      <th>ID</th>\n",
       "    </tr>\n",
       "    <tr>\n",
       "      <th>year</th>\n",
       "      <th></th>\n",
       "      <th></th>\n",
       "      <th></th>\n",
       "      <th></th>\n",
       "      <th></th>\n",
       "      <th></th>\n",
       "      <th></th>\n",
       "      <th></th>\n",
       "      <th></th>\n",
       "      <th></th>\n",
       "      <th></th>\n",
       "      <th></th>\n",
       "      <th></th>\n",
       "      <th></th>\n",
       "      <th></th>\n",
       "      <th></th>\n",
       "      <th></th>\n",
       "      <th></th>\n",
       "      <th></th>\n",
       "      <th></th>\n",
       "    </tr>\n",
       "  </thead>\n",
       "  <tbody>\n",
       "    <tr>\n",
       "      <th>2017.0</th>\n",
       "      <td>Gonzaga</td>\n",
       "      <td>94.9</td>\n",
       "      <td>The Citadel</td>\n",
       "      <td>89.8</td>\n",
       "      <td>Virginia</td>\n",
       "      <td>56.4</td>\n",
       "      <td>West Virginia</td>\n",
       "      <td>10</td>\n",
       "      <td>UCLA</td>\n",
       "      <td>21.4</td>\n",
       "      <td>Notre Dame</td>\n",
       "      <td>80</td>\n",
       "      <td>Gonzaga</td>\n",
       "      <td>21.1</td>\n",
       "      <td>North Carolina</td>\n",
       "      <td>0.668</td>\n",
       "      <td>North Carolina</td>\n",
       "      <td>0.607</td>\n",
       "      <td>Abilene Christian</td>\n",
       "      <td>1101</td>\n",
       "    </tr>\n",
       "    <tr>\n",
       "      <th>2017.0</th>\n",
       "      <td>Villanova</td>\n",
       "      <td>88.9</td>\n",
       "      <td>UCLA</td>\n",
       "      <td>89.8</td>\n",
       "      <td>Saint Mary's</td>\n",
       "      <td>57.5</td>\n",
       "      <td>Portland St.</td>\n",
       "      <td>9.9</td>\n",
       "      <td>Purdue</td>\n",
       "      <td>18.3</td>\n",
       "      <td>Central Mich.</td>\n",
       "      <td>79.1</td>\n",
       "      <td>Wichita St.</td>\n",
       "      <td>18.6</td>\n",
       "      <td>Kentucky</td>\n",
       "      <td>0.658</td>\n",
       "      <td>Vanderbilt (19-16)</td>\n",
       "      <td>0.606</td>\n",
       "      <td>Air Force</td>\n",
       "      <td>1102</td>\n",
       "    </tr>\n",
       "    <tr>\n",
       "      <th>2017.0</th>\n",
       "      <td>Arizona</td>\n",
       "      <td>86.5</td>\n",
       "      <td>Central Mich.</td>\n",
       "      <td>88.3</td>\n",
       "      <td>SMU</td>\n",
       "      <td>60</td>\n",
       "      <td>Fordham</td>\n",
       "      <td>9.8</td>\n",
       "      <td>Lipscomb</td>\n",
       "      <td>18.2</td>\n",
       "      <td>Villanova</td>\n",
       "      <td>79</td>\n",
       "      <td>West Virginia</td>\n",
       "      <td>14.8</td>\n",
       "      <td>Kansas</td>\n",
       "      <td>0.656</td>\n",
       "      <td>Louisville (25-9)</td>\n",
       "      <td>0.604</td>\n",
       "      <td>Akron</td>\n",
       "      <td>1103</td>\n",
       "    </tr>\n",
       "    <tr>\n",
       "      <th>2017.0</th>\n",
       "      <td>Middle Tenn.</td>\n",
       "      <td>86.1</td>\n",
       "      <td>Purdue Fort Wayne</td>\n",
       "      <td>86.9</td>\n",
       "      <td>Saint Peter's</td>\n",
       "      <td>60.8</td>\n",
       "      <td>Eastern Mich.</td>\n",
       "      <td>9.6</td>\n",
       "      <td>North Carolina</td>\n",
       "      <td>18.1</td>\n",
       "      <td>Oklahoma St.</td>\n",
       "      <td>78.9</td>\n",
       "      <td>Saint Mary's</td>\n",
       "      <td>14.6</td>\n",
       "      <td>Villanova</td>\n",
       "      <td>0.655</td>\n",
       "      <td>Baylor (26-8)</td>\n",
       "      <td>0.601</td>\n",
       "      <td>Alabama</td>\n",
       "      <td>1104</td>\n",
       "    </tr>\n",
       "    <tr>\n",
       "      <th>2017.0</th>\n",
       "      <td>UCLA</td>\n",
       "      <td>86.1</td>\n",
       "      <td>Oklahoma St.</td>\n",
       "      <td>85.7</td>\n",
       "      <td>Old Dominion</td>\n",
       "      <td>61.2</td>\n",
       "      <td>Holy Cross</td>\n",
       "      <td>9.4</td>\n",
       "      <td>Iowa</td>\n",
       "      <td>17.7</td>\n",
       "      <td>Mercer</td>\n",
       "      <td>78.2</td>\n",
       "      <td>Villanova</td>\n",
       "      <td>14.5</td>\n",
       "      <td>Arizona</td>\n",
       "      <td>0.652</td>\n",
       "      <td>Virginia (23-11)</td>\n",
       "      <td>0.6</td>\n",
       "      <td>Alabama A&amp;M</td>\n",
       "      <td>1105</td>\n",
       "    </tr>\n",
       "    <tr>\n",
       "      <th>...</th>\n",
       "      <td>...</td>\n",
       "      <td>...</td>\n",
       "      <td>...</td>\n",
       "      <td>...</td>\n",
       "      <td>...</td>\n",
       "      <td>...</td>\n",
       "      <td>...</td>\n",
       "      <td>...</td>\n",
       "      <td>...</td>\n",
       "      <td>...</td>\n",
       "      <td>...</td>\n",
       "      <td>...</td>\n",
       "      <td>...</td>\n",
       "      <td>...</td>\n",
       "      <td>...</td>\n",
       "      <td>...</td>\n",
       "      <td>...</td>\n",
       "      <td>...</td>\n",
       "      <td>...</td>\n",
       "      <td>...</td>\n",
       "    </tr>\n",
       "    <tr>\n",
       "      <th>no data</th>\n",
       "      <td>no data</td>\n",
       "      <td>no data</td>\n",
       "      <td>no data</td>\n",
       "      <td>no data</td>\n",
       "      <td>no data</td>\n",
       "      <td>no data</td>\n",
       "      <td>no data</td>\n",
       "      <td>no data</td>\n",
       "      <td>no data</td>\n",
       "      <td>no data</td>\n",
       "      <td>no data</td>\n",
       "      <td>no data</td>\n",
       "      <td>no data</td>\n",
       "      <td>no data</td>\n",
       "      <td>no data</td>\n",
       "      <td>no data</td>\n",
       "      <td>no data</td>\n",
       "      <td>no data</td>\n",
       "      <td>Wright St.</td>\n",
       "      <td>1460</td>\n",
       "    </tr>\n",
       "    <tr>\n",
       "      <th>no data</th>\n",
       "      <td>no data</td>\n",
       "      <td>no data</td>\n",
       "      <td>no data</td>\n",
       "      <td>no data</td>\n",
       "      <td>no data</td>\n",
       "      <td>no data</td>\n",
       "      <td>no data</td>\n",
       "      <td>no data</td>\n",
       "      <td>no data</td>\n",
       "      <td>no data</td>\n",
       "      <td>no data</td>\n",
       "      <td>no data</td>\n",
       "      <td>no data</td>\n",
       "      <td>no data</td>\n",
       "      <td>no data</td>\n",
       "      <td>no data</td>\n",
       "      <td>no data</td>\n",
       "      <td>no data</td>\n",
       "      <td>Wyoming</td>\n",
       "      <td>1461</td>\n",
       "    </tr>\n",
       "    <tr>\n",
       "      <th>no data</th>\n",
       "      <td>no data</td>\n",
       "      <td>no data</td>\n",
       "      <td>no data</td>\n",
       "      <td>no data</td>\n",
       "      <td>no data</td>\n",
       "      <td>no data</td>\n",
       "      <td>no data</td>\n",
       "      <td>no data</td>\n",
       "      <td>no data</td>\n",
       "      <td>no data</td>\n",
       "      <td>no data</td>\n",
       "      <td>no data</td>\n",
       "      <td>no data</td>\n",
       "      <td>no data</td>\n",
       "      <td>no data</td>\n",
       "      <td>no data</td>\n",
       "      <td>no data</td>\n",
       "      <td>no data</td>\n",
       "      <td>Xavier</td>\n",
       "      <td>1462</td>\n",
       "    </tr>\n",
       "    <tr>\n",
       "      <th>no data</th>\n",
       "      <td>no data</td>\n",
       "      <td>no data</td>\n",
       "      <td>no data</td>\n",
       "      <td>no data</td>\n",
       "      <td>no data</td>\n",
       "      <td>no data</td>\n",
       "      <td>no data</td>\n",
       "      <td>no data</td>\n",
       "      <td>no data</td>\n",
       "      <td>no data</td>\n",
       "      <td>no data</td>\n",
       "      <td>no data</td>\n",
       "      <td>no data</td>\n",
       "      <td>no data</td>\n",
       "      <td>no data</td>\n",
       "      <td>no data</td>\n",
       "      <td>no data</td>\n",
       "      <td>no data</td>\n",
       "      <td>Yale</td>\n",
       "      <td>1463</td>\n",
       "    </tr>\n",
       "    <tr>\n",
       "      <th>no data</th>\n",
       "      <td>no data</td>\n",
       "      <td>no data</td>\n",
       "      <td>no data</td>\n",
       "      <td>no data</td>\n",
       "      <td>no data</td>\n",
       "      <td>no data</td>\n",
       "      <td>no data</td>\n",
       "      <td>no data</td>\n",
       "      <td>no data</td>\n",
       "      <td>no data</td>\n",
       "      <td>no data</td>\n",
       "      <td>no data</td>\n",
       "      <td>no data</td>\n",
       "      <td>no data</td>\n",
       "      <td>no data</td>\n",
       "      <td>no data</td>\n",
       "      <td>no data</td>\n",
       "      <td>no data</td>\n",
       "      <td>Youngstown St.</td>\n",
       "      <td>1464</td>\n",
       "    </tr>\n",
       "  </tbody>\n",
       "</table>\n",
       "<p>364 rows × 20 columns</p>\n",
       "</div>"
      ],
      "text/plain": [
       "             PCT team      PCT           PPG team      PPG      OPPG team  \\\n",
       "year                                                                        \n",
       "2017.0        Gonzaga     94.9        The Citadel     89.8       Virginia   \n",
       "2017.0      Villanova     88.9               UCLA     89.8   Saint Mary's   \n",
       "2017.0        Arizona     86.5      Central Mich.     88.3            SMU   \n",
       "2017.0   Middle Tenn.     86.1  Purdue Fort Wayne     86.9  Saint Peter's   \n",
       "2017.0           UCLA     86.1       Oklahoma St.     85.7   Old Dominion   \n",
       "...               ...      ...                ...      ...            ...   \n",
       "no data       no data  no data            no data  no data        no data   \n",
       "no data       no data  no data            no data  no data        no data   \n",
       "no data       no data  no data            no data  no data        no data   \n",
       "no data       no data  no data            no data  no data        no data   \n",
       "no data       no data  no data            no data  no data        no data   \n",
       "\n",
       "            OPPG       SPG team      SPG        APG team      APG  \\\n",
       "year                                                                \n",
       "2017.0      56.4  West Virginia       10            UCLA     21.4   \n",
       "2017.0      57.5   Portland St.      9.9          Purdue     18.3   \n",
       "2017.0        60        Fordham      9.8        Lipscomb     18.2   \n",
       "2017.0      60.8  Eastern Mich.      9.6  North Carolina     18.1   \n",
       "2017.0      61.2     Holy Cross      9.4            Iowa     17.7   \n",
       "...          ...            ...      ...             ...      ...   \n",
       "no data  no data        no data  no data         no data  no data   \n",
       "no data  no data        no data  no data         no data  no data   \n",
       "no data  no data        no data  no data         no data  no data   \n",
       "no data  no data        no data  no data         no data  no data   \n",
       "no data  no data        no data  no data         no data  no data   \n",
       "\n",
       "              FTP team      FTP      SCMG team     SCMG         RPI team  \\\n",
       "year                                                                       \n",
       "2017.0      Notre Dame       80        Gonzaga     21.1  North Carolina    \n",
       "2017.0   Central Mich.     79.1    Wichita St.     18.6         Kentucky   \n",
       "2017.0       Villanova       79  West Virginia     14.8           Kansas   \n",
       "2017.0    Oklahoma St.     78.9   Saint Mary's     14.6        Villanova   \n",
       "2017.0          Mercer     78.2      Villanova     14.5          Arizona   \n",
       "...                ...      ...            ...      ...              ...   \n",
       "no data        no data  no data        no data  no data          no data   \n",
       "no data        no data  no data        no data  no data          no data   \n",
       "no data        no data  no data        no data  no data          no data   \n",
       "no data        no data  no data        no data  no data          no data   \n",
       "no data        no data  no data        no data  no data          no data   \n",
       "\n",
       "             RPI            SOS team      SOS            ID team    ID  \n",
       "year                                                                    \n",
       "2017.0     0.668      North Carolina    0.607  Abilene Christian  1101  \n",
       "2017.0     0.658  Vanderbilt (19-16)    0.606          Air Force  1102  \n",
       "2017.0     0.656   Louisville (25-9)    0.604              Akron  1103  \n",
       "2017.0     0.655       Baylor (26-8)    0.601            Alabama  1104  \n",
       "2017.0     0.652    Virginia (23-11)      0.6        Alabama A&M  1105  \n",
       "...          ...                 ...      ...                ...   ...  \n",
       "no data  no data             no data  no data         Wright St.  1460  \n",
       "no data  no data             no data  no data            Wyoming  1461  \n",
       "no data  no data             no data  no data             Xavier  1462  \n",
       "no data  no data             no data  no data               Yale  1463  \n",
       "no data  no data             no data  no data     Youngstown St.  1464  \n",
       "\n",
       "[364 rows x 20 columns]"
      ]
     },
     "execution_count": 120,
     "metadata": {},
     "output_type": "execute_result"
    }
   ],
   "source": [
    "oo = oo.fillna('no data')\n",
    "oo = oo.set_index('year')\n",
    "oo"
   ]
  },
  {
   "cell_type": "code",
   "execution_count": 121,
   "metadata": {},
   "outputs": [
    {
     "data": {
      "text/html": [
       "<div>\n",
       "<style scoped>\n",
       "    .dataframe tbody tr th:only-of-type {\n",
       "        vertical-align: middle;\n",
       "    }\n",
       "\n",
       "    .dataframe tbody tr th {\n",
       "        vertical-align: top;\n",
       "    }\n",
       "\n",
       "    .dataframe thead th {\n",
       "        text-align: right;\n",
       "    }\n",
       "</style>\n",
       "<table border=\"1\" class=\"dataframe\">\n",
       "  <thead>\n",
       "    <tr style=\"text-align: right;\">\n",
       "      <th></th>\n",
       "      <th>team A</th>\n",
       "      <th>team B</th>\n",
       "      <th>y</th>\n",
       "      <th>yr</th>\n",
       "    </tr>\n",
       "  </thead>\n",
       "  <tbody>\n",
       "    <tr>\n",
       "      <th>0</th>\n",
       "      <td>1104</td>\n",
       "      <td>1157</td>\n",
       "      <td>1</td>\n",
       "      <td>17</td>\n",
       "    </tr>\n",
       "    <tr>\n",
       "      <th>1</th>\n",
       "      <td>1336</td>\n",
       "      <td>1107</td>\n",
       "      <td>-1</td>\n",
       "      <td>-6</td>\n",
       "    </tr>\n",
       "    <tr>\n",
       "      <th>2</th>\n",
       "      <td>1112</td>\n",
       "      <td>1277</td>\n",
       "      <td>1</td>\n",
       "      <td>2</td>\n",
       "    </tr>\n",
       "    <tr>\n",
       "      <th>3</th>\n",
       "      <td>1113</td>\n",
       "      <td>1340</td>\n",
       "      <td>1</td>\n",
       "      <td>18</td>\n",
       "    </tr>\n",
       "    <tr>\n",
       "      <th>4</th>\n",
       "      <td>1116</td>\n",
       "      <td>1236</td>\n",
       "      <td>1</td>\n",
       "      <td>9</td>\n",
       "    </tr>\n",
       "  </tbody>\n",
       "</table>\n",
       "</div>"
      ],
      "text/plain": [
       "   team A  team B  y  yr\n",
       "0    1104    1157  1  17\n",
       "1    1336    1107 -1  -6\n",
       "2    1112    1277  1   2\n",
       "3    1113    1340  1  18\n",
       "4    1116    1236  1   9"
      ]
     },
     "execution_count": 121,
     "metadata": {},
     "output_type": "execute_result"
    }
   ],
   "source": [
    "gd = pd.read_csv('games.csv')\n",
    "gd.head()"
   ]
  },
  {
   "cell_type": "markdown",
   "metadata": {},
   "source": [
    "# Prepare Data for Training"
   ]
  },
  {
   "cell_type": "code",
   "execution_count": 122,
   "metadata": {},
   "outputs": [],
   "source": [
    "number_of_games = len(gd.index)\n",
    "x1 = np.zeros(shape=(number_of_games,1))\n",
    "y = gd['yr'].values\n",
    "year = 2017.0\n",
    "\n",
    "for p in range(number_of_games):\n",
    "    teamA_id = (gd.iloc[p])['team A']\n",
    "    teamB_id = (gd.iloc[p])['team B']\n",
    "\n",
    "    teamA = ((oo.loc[oo['ID'] == teamA_id])['ID team']).values[0]\n",
    "    teamB = ((oo.loc[oo['ID'] == teamB_id])['ID team']).values[0]\n",
    "\n",
    "    x_A = ((oo.loc[oo['RPI team'].str.rstrip() == teamA])['RPI']).values[0]\n",
    "    x_B = ((oo.loc[oo['RPI team'].str.rstrip() == teamB])['RPI']).values[0]\n",
    "    x1[p] = (x_A - x_B)  "
   ]
  },
  {
   "cell_type": "code",
   "execution_count": 123,
   "metadata": {},
   "outputs": [],
   "source": [
    "number_of_games = len(gd.index)\n",
    "x2 = np.zeros(shape=(number_of_games,1))\n",
    "\n",
    "for p in range(number_of_games):\n",
    "    teamA_id = (gd.iloc[p])['team A']\n",
    "    teamB_id = (gd.iloc[p])['team B']\n",
    "\n",
    "    teamA = ((oo.loc[oo['ID'] == teamA_id])['ID team']).values[0]\n",
    "    teamB = ((oo.loc[oo['ID'] == teamB_id])['ID team']).values[0]\n",
    "\n",
    "    x_A = ((oo.loc[oo['SCMG team'].str.rstrip() == teamA])['SCMG']).values[0]\n",
    "    x_B = ((oo.loc[oo['SCMG team'].str.rstrip() == teamB])['SCMG']).values[0]\n",
    "    x2[p] = (x_A - x_B) "
   ]
  },
  {
   "cell_type": "code",
   "execution_count": 124,
   "metadata": {},
   "outputs": [],
   "source": [
    "number_of_games = len(gd.index)\n",
    "x3 = np.zeros(shape=(number_of_games,1))\n",
    "\n",
    "for p in range(number_of_games):\n",
    "    teamA_id = (gd.iloc[p])['team A']\n",
    "    teamB_id = (gd.iloc[p])['team B']\n",
    "\n",
    "    teamA = ((oo.loc[oo['ID'] == teamA_id])['ID team']).values[0]\n",
    "    teamB = ((oo.loc[oo['ID'] == teamB_id])['ID team']).values[0]\n",
    "\n",
    "    x_A = ((oo.loc[oo['FTP team'].str.rstrip() == teamA])['FTP']).values[0]\n",
    "    x_B = ((oo.loc[oo['FTP team'].str.rstrip() == teamB])['FTP']).values[0]\n",
    "    x3[p] = (x_A - x_B)   "
   ]
  },
  {
   "cell_type": "code",
   "execution_count": 125,
   "metadata": {},
   "outputs": [],
   "source": [
    "number_of_games = len(gd.index)\n",
    "x4 = np.zeros(shape=(number_of_games,1))\n",
    "\n",
    "for p in range(number_of_games):\n",
    "    teamA_id = (gd.iloc[p])['team A']\n",
    "    teamB_id = (gd.iloc[p])['team B']\n",
    "\n",
    "    teamA = ((oo.loc[oo['ID'] == teamA_id])['ID team']).values[0]\n",
    "    teamB = ((oo.loc[oo['ID'] == teamB_id])['ID team']).values[0]\n",
    "\n",
    "    x_A = ((oo.loc[oo['APG team'].str.rstrip() == teamA])['APG']).values[0]\n",
    "    x_B = ((oo.loc[oo['APG team'].str.rstrip() == teamB])['APG']).values[0]\n",
    "    x4[p] = (x_A - x_B)   "
   ]
  },
  {
   "cell_type": "code",
   "execution_count": 245,
   "metadata": {},
   "outputs": [],
   "source": [
    "number_of_games = len(gd.index)\n",
    "x5 = np.zeros(shape=(number_of_games,1))\n",
    "\n",
    "for p in range(number_of_games):\n",
    "    teamA_id = (gd.iloc[p])['team A']\n",
    "    teamB_id = (gd.iloc[p])['team B']\n",
    "    \n",
    "    teamA = ((oo.loc[oo['ID'] == teamA_id])['ID team']).values[0]\n",
    "    teamB = ((oo.loc[oo['ID'] == teamB_id])['ID team']).values[0]\n",
    "    \n",
    "    if len(((oo.loc[oo['PPG team'].str.rstrip() == teamA.rstrip()])['PPG']).values)>0 and len(((oo.loc[oo['PPG team'].str.rstrip() == teamB.rstrip()])['PPG']).values)>0:\n",
    "        x_A = ((oo.loc[oo['PPG team'].str.rstrip() == teamA.rstrip()])['PPG']).values[0] \n",
    "        x_B = ((oo.loc[oo['PPG team'].str.rstrip() == teamB.rstrip()])['PPG']).values[0] \n",
    "    x5[p] = (x_A - x_B)   "
   ]
  },
  {
   "cell_type": "code",
   "execution_count": 254,
   "metadata": {},
   "outputs": [],
   "source": [
    "number_of_games = len(gd.index)\n",
    "x6 = np.zeros(shape=(number_of_games,1))\n",
    "\n",
    "for p in range(number_of_games):\n",
    "    teamA_id = (gd.iloc[p])['team A']\n",
    "    teamB_id = (gd.iloc[p])['team B']\n",
    "    \n",
    "    teamA = ((oo.loc[oo['ID'] == teamA_id])['ID team']).values[0]\n",
    "    teamB = ((oo.loc[oo['ID'] == teamB_id])['ID team']).values[0]\n",
    "    \n",
    "    if len(((oo.loc[oo['PCT team'].str.rstrip() == teamA.rstrip()])['PCT']).values)>0 and len(((oo.loc[oo['PCT team'].str.rstrip() == teamB.rstrip()])['PCT']).values)>0:\n",
    "        x_A = ((oo.loc[oo['PCT team'].str.rstrip() == teamA.rstrip()])['PCT']).values[0] \n",
    "        x_B = ((oo.loc[oo['PCT team'].str.rstrip() == teamB.rstrip()])['PCT']).values[0] \n",
    "    x6[p] = (x_A - x_B)   "
   ]
  },
  {
   "cell_type": "code",
   "execution_count": 266,
   "metadata": {},
   "outputs": [],
   "source": [
    "number_of_games = len(gd.index)\n",
    "x7 = np.zeros(shape=(number_of_games,1))\n",
    "\n",
    "for p in range(number_of_games):\n",
    "    teamA_id = (gd.iloc[p])['team A']\n",
    "    teamB_id = (gd.iloc[p])['team B']\n",
    "    \n",
    "    teamA = ((oo.loc[oo['ID'] == teamA_id])['ID team']).values[0]\n",
    "    teamB = ((oo.loc[oo['ID'] == teamB_id])['ID team']).values[0]\n",
    "    \n",
    "    if len(((oo.loc[oo['OPPG team'].str.rstrip() == teamA.rstrip()])['OPPG']).values)>0 and len(((oo.loc[oo['OPPG team'].str.rstrip() == teamB.rstrip()])['OPPG']).values)>0:\n",
    "        x_A = ((oo.loc[oo['OPPG team'].str.rstrip() == teamA.rstrip()])['OPPG']).values[0] \n",
    "        x_B = ((oo.loc[oo['OPPG team'].str.rstrip() == teamB.rstrip()])['OPPG']).values[0] \n",
    "    x7[p] = (x_A - x_B)   "
   ]
  },
  {
   "cell_type": "code",
   "execution_count": 301,
   "metadata": {},
   "outputs": [],
   "source": [
    "number_of_games = len(gd.index)\n",
    "x8 = np.zeros(shape=(number_of_games,1))\n",
    "\n",
    "for p in range(number_of_games):\n",
    "    teamA_id = (gd.iloc[p])['team A']\n",
    "    teamB_id = (gd.iloc[p])['team B']\n",
    "    \n",
    "    teamA = ((oo.loc[oo['ID'] == teamA_id])['ID team']).values[0]\n",
    "    teamB = ((oo.loc[oo['ID'] == teamB_id])['ID team']).values[0]\n",
    "    \n",
    "    if len(((oo.loc[oo['SPG team'].str.rstrip() == teamA.rstrip()])['SPG']).values)>0 and len(((oo.loc[oo['SPG team'].str.rstrip() == teamB.rstrip()])['SPG']).values)>0:\n",
    "        x_A = ((oo.loc[oo['SPG team'].str.rstrip() == teamA.rstrip()])['SPG']).values[0] \n",
    "        x_B = ((oo.loc[oo['SPG team'].str.rstrip() == teamB.rstrip()])['SPG']).values[0] \n",
    "    x8[p] = (x_A - x_B)   "
   ]
  },
  {
   "cell_type": "code",
   "execution_count": 322,
   "metadata": {},
   "outputs": [],
   "source": [
    "number_of_games = len(gd.index)\n",
    "x9 = np.zeros(shape=(number_of_games,1))\n",
    "\n",
    "for p in range(number_of_games):\n",
    "    teamA_id = (gd.iloc[p])['team A']\n",
    "    teamB_id = (gd.iloc[p])['team B']\n",
    "    \n",
    "    teamA = ((oo.loc[oo['ID'] == teamA_id])['ID team']).values[0]\n",
    "    teamB = ((oo.loc[oo['ID'] == teamB_id])['ID team']).values[0]\n",
    "    \n",
    "    if len(((oo.loc[oo['SOS team'].str.rstrip() == teamA.rstrip()])['SOS']).values)>0 and len(((oo.loc[oo['SOS team'].str.rstrip() == teamB.rstrip()])['SOS']).values)>0:\n",
    "        x_A = ((oo.loc[oo['SOS team'].str.rstrip() == teamA.rstrip()])['SOS']).values[0] \n",
    "        x_B = ((oo.loc[oo['SOS team'].str.rstrip() == teamB.rstrip()])['SOS']).values[0] \n",
    "    x9[p] = (x_A - x_B)   "
   ]
  },
  {
   "cell_type": "code",
   "execution_count": 363,
   "metadata": {},
   "outputs": [
    {
     "name": "stdout",
     "output_type": "stream",
     "text": [
      "(5395, 9)\n"
     ]
    }
   ],
   "source": [
    "X = np.concatenate((x1,x2,x3,x4,x5,x6,x7,x8,x9),axis=1)\n",
    "y.shape = (number_of_games,)"
   ]
  },
  {
   "cell_type": "markdown",
   "metadata": {},
   "source": [
    "# Train Data with Regression Forest "
   ]
  },
  {
   "cell_type": "markdown",
   "metadata": {},
   "source": [
    "## split data into training and test set"
   ]
  },
  {
   "cell_type": "code",
   "execution_count": 346,
   "metadata": {},
   "outputs": [],
   "source": [
    "X_train, X_test, y_train, y_test = train_test_split(X, y, test_size=0.25, random_state=0)"
   ]
  },
  {
   "cell_type": "markdown",
   "metadata": {},
   "source": [
    "## build forest"
   ]
  },
  {
   "cell_type": "code",
   "execution_count": 347,
   "metadata": {},
   "outputs": [],
   "source": [
    "regressor = RandomForestRegressor(n_estimators=200, min_samples_leaf=10, max_features = 'sqrt',random_state=0)"
   ]
  },
  {
   "cell_type": "code",
   "execution_count": 348,
   "metadata": {},
   "outputs": [
    {
     "data": {
      "text/plain": [
       "RandomForestRegressor(max_features='sqrt', min_samples_leaf=10,\n",
       "                      n_estimators=200, random_state=0)"
      ]
     },
     "execution_count": 348,
     "metadata": {},
     "output_type": "execute_result"
    }
   ],
   "source": [
    "regressor.fit(X_train, y_train)"
   ]
  },
  {
   "cell_type": "markdown",
   "metadata": {},
   "source": [
    "# Test Data"
   ]
  },
  {
   "cell_type": "code",
   "execution_count": 349,
   "metadata": {},
   "outputs": [],
   "source": [
    "y_pred = regressor.predict(X_test)"
   ]
  },
  {
   "cell_type": "code",
   "execution_count": 361,
   "metadata": {},
   "outputs": [
    {
     "name": "stdout",
     "output_type": "stream",
     "text": [
      "RMS Error: 11.385543973069407\n"
     ]
    }
   ],
   "source": [
    "from sklearn import metrics\n",
    "\n",
    "rms_error = np.sqrt(metrics.mean_squared_error(y_test, y_pred))\n",
    "print('RMS Error:', rms_error)"
   ]
  },
  {
   "cell_type": "markdown",
   "metadata": {},
   "source": [
    "## plot test results"
   ]
  },
  {
   "cell_type": "code",
   "execution_count": 351,
   "metadata": {},
   "outputs": [
    {
     "name": "stdout",
     "output_type": "stream",
     "text": [
      "correlation coefficient: 0.6663059246354428\n",
      "bias: -0.3969137553962669\n"
     ]
    },
    {
     "data": {
      "image/png": "[encoded data removed]",
      "text/plain": [
       "<Figure size 432x288 with 1 Axes>"
      ]
     },
     "metadata": {
      "needs_background": "light"
     },
     "output_type": "display_data"
    }
   ],
   "source": [
    "from scipy import stats\n",
    "\n",
    "slope, intercept, r_value, p_value, std_err = stats.linregress(y_test,y_pred)\n",
    "print(\"correlation coefficient: {}\".format(r_value))\n",
    "print(\"bias: {}\".format(intercept))\n",
    "plt.scatter(y_test, y_pred,color='r')\n",
    "plt.plot(y_test, slope*y_test + intercept)\n",
    "plt.xlabel(\"test sample data\")\n",
    "plt.ylabel(\"predicted data\")\n",
    "plt.show()"
   ]
  },
  {
   "cell_type": "code",
   "execution_count": 355,
   "metadata": {},
   "outputs": [
    {
     "name": "stdout",
     "output_type": "stream",
     "text": [
      "test error: 8.795737187806155\n"
     ]
    }
   ],
   "source": [
    "test_error = np.average(abs(y_test - y_pred))\n",
    "print(\"test error: {}\".format(test_error))"
   ]
  },
  {
   "cell_type": "markdown",
   "metadata": {},
   "source": [
    "# "
   ]
  },
  {
   "cell_type": "code",
   "execution_count": 379,
   "metadata": {},
   "outputs": [
    {
     "data": {
      "text/plain": [
       "<BarContainer object of 9 artists>"
      ]
     },
     "execution_count": 379,
     "metadata": {},
     "output_type": "execute_result"
    },
    {
     "data": {
      "image/png": "[encoded data removed]",
      "text/plain": [
       "<Figure size 432x288 with 1 Axes>"
      ]
     },
     "metadata": {
      "needs_background": "light"
     },
     "output_type": "display_data"
    }
   ],
   "source": [
    "importance = regressor.feature_importances_\n",
    "\n",
    "clrs = ['tomato' if (x < 0.05) else ('gold' if (x>=0.05 and x<0.1) else ('lightgreen' if (x>=0.1 and x<0.2) else 'forestgreen')) for x in importance]\n",
    "plt.bar([x for x in range(len(importance))], importance,color=clrs)"
   ]
  },
  {
   "cell_type": "markdown",
   "metadata": {},
   "source": [
    "# Test a Game"
   ]
  },
  {
   "cell_type": "code",
   "execution_count": 380,
   "metadata": {},
   "outputs": [
    {
     "name": "stdout",
     "output_type": "stream",
     "text": [
      "[0.37196862]\n"
     ]
    }
   ],
   "source": [
    "X_test_game = np.array([[-0.0006,4.3,-2.1,2.1,3.9,0.157,-0.4,-2,0.0182]])\n",
    "game_prediction = regressor.predict(X_test_game)\n",
    "print(game_prediction)"
   ]
  },
  {
   "cell_type": "markdown",
   "metadata": {},
   "source": [
    "## Establish Win Confidence"
   ]
  },
  {
   "cell_type": "code",
   "execution_count": 381,
   "metadata": {},
   "outputs": [
    {
     "name": "stdout",
     "output_type": "stream",
     "text": [
      "team A win confidence: 0.5130312278368343\n"
     ]
    }
   ],
   "source": [
    "from scipy.stats import norm\n",
    "\n",
    "mu = game_prediction\n",
    "sigma = rms_error\n",
    "\n",
    "win_probability = (1 - norm.cdf(0, loc=mu, scale=sigma))[0]\n",
    "print(\"team A win confidence: {}\".format(win_probability))"
   ]
  }
 ],
 "metadata": {
  "kernelspec": {
   "display_name": "Python 3",
   "language": "python",
   "name": "python3"
  },
  "language_info": {
   "codemirror_mode": {
    "name": "ipython",
    "version": 3
   },
   "file_extension": ".py",
   "mimetype": "text/x-python",
   "name": "python",
   "nbconvert_exporter": "python",
   "pygments_lexer": "ipython3",
   "version": "3.8.5"
  }
 },
 "nbformat": 4,
 "nbformat_minor": 2
}
